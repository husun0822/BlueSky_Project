{
 "cells": [
  {
   "cell_type": "code",
   "execution_count": 1,
   "metadata": {},
   "outputs": [
    {
     "ename": "ModuleNotFoundError",
     "evalue": "No module named 'new_PIL'",
     "output_type": "error",
     "traceback": [
      "\u001b[1;31m---------------------------------------------------------------------------\u001b[0m",
      "\u001b[1;31mModuleNotFoundError\u001b[0m                       Traceback (most recent call last)",
      "\u001b[1;32m<ipython-input-1-23ff74d718cd>\u001b[0m in \u001b[0;36m<module>\u001b[1;34m\u001b[0m\n\u001b[0;32m      1\u001b[0m \u001b[1;31m# this file contains the code for flux testing the PIL detection algorithm\u001b[0m\u001b[1;33m\u001b[0m\u001b[1;33m\u001b[0m\u001b[1;33m\u001b[0m\u001b[0m\n\u001b[1;32m----> 2\u001b[1;33m \u001b[1;32mfrom\u001b[0m \u001b[0mnew_PIL\u001b[0m \u001b[1;32mimport\u001b[0m \u001b[1;33m*\u001b[0m\u001b[1;33m\u001b[0m\u001b[1;33m\u001b[0m\u001b[0m\n\u001b[0m\u001b[0;32m      3\u001b[0m \u001b[1;32mimport\u001b[0m \u001b[0mmultiprocessing\u001b[0m \u001b[1;32mas\u001b[0m \u001b[0mmp\u001b[0m\u001b[1;33m\u001b[0m\u001b[1;33m\u001b[0m\u001b[0m\n\u001b[0;32m      4\u001b[0m \u001b[1;32mimport\u001b[0m \u001b[0mnumpy\u001b[0m \u001b[1;32mas\u001b[0m \u001b[0mnp\u001b[0m\u001b[1;33m\u001b[0m\u001b[1;33m\u001b[0m\u001b[0m\n\u001b[0;32m      5\u001b[0m \u001b[1;33m\u001b[0m\u001b[0m\n",
      "\u001b[1;31mModuleNotFoundError\u001b[0m: No module named 'new_PIL'"
     ]
    }
   ],
   "source": [
    "# this file contains the code for flux testing the PIL detection algorithm\n",
    "from new_PIL import *\n",
    "import multiprocessing as mp\n",
    "import numpy as np\n",
    "\n",
    "def PIL_USFLUX_cal(video,core=8):\n",
    "    pool = mp.Pool(processes=core)\n",
    "    process_input = []    \n",
    "    num_frame = video.shape[0] \n",
    "    \n",
    "    for i in range(num_frame):\n",
    "        image = np.nan_to_num(video[i])\n",
    "        the_input = [image,100,3,5,5,70,150,\"image\",i]\n",
    "        process_input.append(the_input)\n",
    "        \n",
    "    results = [pool.apply_async(PIL_detect,t) for t in process_input]\n",
    "    output = [p.get() for p in results] # output is a list of image-index pairs\n",
    "    usflux = [0]*num_frame\n",
    "    \n",
    "    for item in output:\n",
    "        index = item[1]\n",
    "        binary_edge = item[0]\n",
    "        image = np.abs(np.nan_to_num(image))\n",
    "        total_unsigned_flux = np.sum(np.multiply(binary_edge,image))\n",
    "        usflux[index] = total_unsigned_flux\n",
    "    \n",
    "    np.save('USFLUX11158',np.array(usflux))\n",
    "\n",
    "if __name__==\"__main__\":\n",
    "    data = np.load('HARP377.npy')\n",
    "    PIL_USFLUX_cal(data,core=8)"
   ]
  }
 ],
 "metadata": {
  "kernelspec": {
   "display_name": "Python 3",
   "language": "python",
   "name": "python3"
  },
  "language_info": {
   "codemirror_mode": {
    "name": "ipython",
    "version": 3
   },
   "file_extension": ".py",
   "mimetype": "text/x-python",
   "name": "python",
   "nbconvert_exporter": "python",
   "pygments_lexer": "ipython3",
   "version": "3.7.3"
  }
 },
 "nbformat": 4,
 "nbformat_minor": 2
}
